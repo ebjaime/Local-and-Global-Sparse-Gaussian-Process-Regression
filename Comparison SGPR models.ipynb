{
 "cells": [
  {
   "cell_type": "markdown",
   "id": "57cd360b",
   "metadata": {
    "pycharm": {
     "name": "#%% md\n"
    }
   },
   "source": [
    "The models being compared will be: SGPR (VFE), FITC, PIC and PITC."
   ]
  },
  {
   "cell_type": "code",
   "execution_count": 2,
   "id": "f0da169b",
   "metadata": {
    "pycharm": {
     "name": "#%%\n"
    },
    "scrolled": true
   },
   "outputs": [],
   "source": [
    "import GPflow.gpflow as gpflow\n",
    "import numpy as np\n",
    "import tensorflow as tf\n",
    "import matplotlib.pyplot as plt\n",
    "\n",
    "from GPflow.gpflow.config import default_float\n",
    "from GPflow.gpflow import set_trainable\n",
    "from GPflow.gpflow.models import maximum_log_likelihood_objective, training_loss_closure\n",
    "from GPflow.gpflow.ci_utils import ci_niter"
   ]
  },
  {
   "cell_type": "code",
   "execution_count": 3,
   "id": "ee3f4f78",
   "metadata": {
    "pycharm": {
     "name": "#%%\n"
    }
   },
   "outputs": [],
   "source": [
    "def plot(model, color, ax):\n",
    "    xx = np.linspace(-1, 11, 100)[:, None]\n",
    "    mu, var = model.predict_y(xx)\n",
    "    ax.plot(xx, mu, color, lw=2)\n",
    "    ax.fill_between(\n",
    "        xx[:, 0],\n",
    "        mu[:, 0] - 1.96 * np.sqrt(var[:, 0]),\n",
    "        mu[:, 0] + 1.96 * np.sqrt(var[:, 0]),\n",
    "        color=color,\n",
    "        alpha=0.2,\n",
    "    )\n",
    "    ax.plot(X, Y, \"kx\", mew=2)\n",
    "    ax.set_xlim(-1, 11)"
   ]
  },
  {
   "cell_type": "code",
   "execution_count": 4,
   "id": "0d252176",
   "metadata": {
    "pycharm": {
     "name": "#%%\n"
    }
   },
   "outputs": [
    {
     "name": "stderr",
     "output_type": "stream",
     "text": [
      "2022-08-14 16:57:15.531405: W tensorflow/stream_executor/platform/default/dso_loader.cc:64] Could not load dynamic library 'libcuda.so.1'; dlerror: libcuda.so.1: cannot open shared object file: No such file or directory\n",
      "2022-08-14 16:57:15.531434: W tensorflow/stream_executor/cuda/cuda_driver.cc:269] failed call to cuInit: UNKNOWN ERROR (303)\n",
      "2022-08-14 16:57:15.531453: I tensorflow/stream_executor/cuda/cuda_diagnostics.cc:156] kernel driver does not appear to be running on this host (jaime-XPS-13-7390): /proc/driver/nvidia/version does not exist\n",
      "2022-08-14 16:57:15.531736: I tensorflow/core/platform/cpu_feature_guard.cc:193] This TensorFlow binary is optimized with oneAPI Deep Neural Network Library (oneDNN) to use the following CPU instructions in performance-critical operations:  AVX2 FMA\n",
      "To enable them in other operations, rebuild TensorFlow with the appropriate compiler flags.\n"
     ]
    },
    {
     "data": {
      "image/png": "[encoded data removed]",
      "text/plain": [
       "<Figure size 432x288 with 1 Axes>"
      ]
     },
     "metadata": {
      "needs_background": "light"
     },
     "output_type": "display_data"
    }
   ],
   "source": [
    "np.random.seed(1)\n",
    "X = np.random.rand(20, 1) * 10\n",
    "Y = np.sin(X) + 0.9 * np.cos(X * 1.6) + np.random.randn(*X.shape) * 0.4\n",
    "Xtest = np.random.rand(10, 1) * 10\n",
    "_ = plt.plot(X, Y, \"kx\", mew=2)\n",
    "\n",
    "data = (\n",
    "    tf.convert_to_tensor(X, dtype=default_float()),\n",
    "    tf.convert_to_tensor(Y, dtype=default_float()),\n",
    ")\n",
    "inducing_variable = tf.convert_to_tensor(X, dtype=default_float())"
   ]
  },
  {
   "cell_type": "code",
   "execution_count": 10,
   "id": "b6691164",
   "metadata": {
    "pycharm": {
     "name": "#%%\n"
    }
   },
   "outputs": [
    {
     "name": "stdout",
     "output_type": "stream",
     "text": [
      "(<tf.Variable 'Variable:0' shape=() dtype=float64, numpy=0.5413248546129181>, <tf.Variable 'Variable:0' shape=() dtype=float64, numpy=0.5413248546129181>, <tf.Variable 'Variable:0' shape=() dtype=float64, numpy=0.5413232726357509>)\n",
      "(<tf.Variable 'Variable:0' shape=() dtype=float64, numpy=0.5413248546129181>, <tf.Variable 'Variable:0' shape=() dtype=float64, numpy=0.5413248546129181>, <tf.Variable 'Variable:0' shape=() dtype=float64, numpy=0.5413232726357509>)\n",
      "(<tf.Variable 'Variable:0' shape=() dtype=float64, numpy=0.5413248546129181>, <tf.Variable 'Variable:0' shape=() dtype=float64, numpy=0.5413248546129181>, <tf.Variable 'Variable:0' shape=() dtype=float64, numpy=0.5413232726357509>)\n"
     ]
    }
   ],
   "source": [
    "m1 = gpflow.models.GPR(data, kernel=gpflow.kernels.SquaredExponential())\n",
    "\n",
    "m2 = gpflow.models.SGPR(\n",
    "    data, kernel=gpflow.kernels.SquaredExponential(), inducing_variable=inducing_variable\n",
    ")\n",
    "set_trainable(m2.inducing_variable, False)\n",
    "\n",
    "m3 = gpflow.models.GPRFITC(\n",
    "    data, kernel=gpflow.kernels.SquaredExponential(), inducing_variable=inducing_variable\n",
    ")\n",
    "set_trainable(m3.inducing_variable, False)\n",
    "\n",
    "m4 = gpflow.models.GPRPITC(\n",
    "    data, kernel=gpflow.kernels.SquaredExponential(), inducing_variable=inducing_variable\n",
    ")\n",
    "set_trainable(m4.inducing_variable, False)\n",
    "\n",
    "models = [m1,m2,m3, m4]\n",
    "\n",
    "for m in models:\n",
    "    opt = gpflow.optimizers.Scipy()\n",
    "    loss_closure = training_loss_closure(m, data)\n",
    "    print(m.trainable_variables)\n",
    "    opt.minimize(\n",
    "        loss_closure,\n",
    "        variables=m.trainable_variables,\n",
    "        options=dict(maxiter=ci_niter(1000)),\n",
    "        compile=True,\n",
    "    )"
   ]
  },
  {
   "cell_type": "code",
   "execution_count": 1,
   "id": "51d08627",
   "metadata": {
    "pycharm": {
     "name": "#%%\n"
    }
   },
   "outputs": [
    {
     "ename": "NameError",
     "evalue": "name 'plt' is not defined",
     "output_type": "error",
     "traceback": [
      "\u001b[0;31m---------------------------------------------------------------------------\u001b[0m",
      "\u001b[0;31mNameError\u001b[0m                                 Traceback (most recent call last)",
      "Input \u001b[0;32mIn [1]\u001b[0m, in \u001b[0;36m<cell line: 1>\u001b[0;34m()\u001b[0m\n\u001b[0;32m----> 1\u001b[0m f, ax \u001b[38;5;241m=\u001b[39m \u001b[43mplt\u001b[49m\u001b[38;5;241m.\u001b[39msubplots(\u001b[38;5;241m3\u001b[39m, \u001b[38;5;241m2\u001b[39m, sharex\u001b[38;5;241m=\u001b[39m\u001b[38;5;28;01mTrue\u001b[39;00m, sharey\u001b[38;5;241m=\u001b[39m\u001b[38;5;28;01mTrue\u001b[39;00m, figsize\u001b[38;5;241m=\u001b[39m(\u001b[38;5;241m12\u001b[39m, \u001b[38;5;241m9\u001b[39m))\n\u001b[1;32m      2\u001b[0m plot(m1, \u001b[38;5;124m\"\u001b[39m\u001b[38;5;124mC0\u001b[39m\u001b[38;5;124m\"\u001b[39m, ax[\u001b[38;5;241m0\u001b[39m, \u001b[38;5;241m0\u001b[39m])\n\u001b[1;32m      3\u001b[0m plot(m2, \u001b[38;5;124m\"\u001b[39m\u001b[38;5;124mC1\u001b[39m\u001b[38;5;124m\"\u001b[39m, ax[\u001b[38;5;241m1\u001b[39m, \u001b[38;5;241m0\u001b[39m])\n",
      "\u001b[0;31mNameError\u001b[0m: name 'plt' is not defined"
     ]
    }
   ],
   "source": [
    "f, ax = plt.subplots(3, 2, sharex=True, sharey=True, figsize=(12, 9))\n",
    "plot(m1, \"C0\", ax[0, 0])\n",
    "plot(m2, \"C1\", ax[1, 0])\n",
    "plot(m3, \"C2\", ax[0, 1])\n",
    "plot(m4, \"C3\", ax[1, 1])"
   ]
  }
 ],
 "metadata": {
  "kernelspec": {
   "display_name": "Python 3 (ipykernel)",
   "language": "python",
   "name": "python3"
  },
  "language_info": {
   "codemirror_mode": {
    "name": "ipython",
    "version": 3
   },
   "file_extension": ".py",
   "mimetype": "text/x-python",
   "name": "python",
   "nbconvert_exporter": "python",
   "pygments_lexer": "ipython3",
   "version": "3.10.4"
  }
 },
 "nbformat": 4,
 "nbformat_minor": 5
}
