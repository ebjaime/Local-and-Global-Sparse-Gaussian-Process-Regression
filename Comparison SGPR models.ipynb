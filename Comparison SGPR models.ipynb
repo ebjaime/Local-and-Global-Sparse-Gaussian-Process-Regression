{
 "cells": [
  {
   "cell_type": "markdown",
   "id": "57cd360b",
   "metadata": {
    "pycharm": {
     "name": "#%% md\n"
    }
   },
   "source": [
    "The models being compared will be: SGPR (VFE), FITC, PIC and PITC."
   ]
  },
  {
   "cell_type": "markdown",
   "id": "1c7c96fa",
   "metadata": {},
   "source": [
    "### General Functions implemented"
   ]
  },
  {
   "cell_type": "code",
   "execution_count": null,
   "id": "e7b71360",
   "metadata": {},
   "outputs": [],
   "source": []
  },
  {
   "cell_type": "markdown",
   "id": "9204c2ad",
   "metadata": {},
   "source": [
    "## Implementation of PITC and PIC methods in GPFlow context"
   ]
  },
  {
   "cell_type": "code",
   "execution_count": null,
   "id": "e235372e",
   "metadata": {},
   "outputs": [],
   "source": []
  },
  {
   "cell_type": "markdown",
   "id": "213293fd",
   "metadata": {},
   "source": [
    "## Reproduction of previous experiments found in Snelson & Ghahramani (2007) and Titsias (2009)"
   ]
  },
  {
   "cell_type": "code",
   "execution_count": null,
   "id": "0643d3ff",
   "metadata": {},
   "outputs": [],
   "source": []
  },
  {
   "cell_type": "markdown",
   "id": "1a0749dc",
   "metadata": {},
   "source": [
    "## Comparison between Guassian Process Models"
   ]
  },
  {
   "cell_type": "code",
   "execution_count": null,
   "id": "f54dd303",
   "metadata": {},
   "outputs": [],
   "source": []
  },
  {
   "cell_type": "markdown",
   "id": "e8e574a3",
   "metadata": {},
   "source": []
  }
 ],
 "metadata": {
  "kernelspec": {
   "display_name": "Python 3 (ipykernel)",
   "language": "python",
   "name": "python3"
  },
  "language_info": {
   "codemirror_mode": {
    "name": "ipython",
    "version": 3
   },
   "file_extension": ".py",
   "mimetype": "text/x-python",
   "name": "python",
   "nbconvert_exporter": "python",
   "pygments_lexer": "ipython3",
   "version": "3.10.4"
  }
 },
 "nbformat": 4,
 "nbformat_minor": 5
}
